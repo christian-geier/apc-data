{
  "nbformat": 4,
  "nbformat_minor": 0,
  "metadata": {
    "colab": {
      "provenance": [],
      "authorship_tag": "ABX9TyPg8dD1CNKdG4KiGbqYBS/h",
      "include_colab_link": true
    },
    "kernelspec": {
      "name": "python3",
      "display_name": "Python 3"
    },
    "language_info": {
      "name": "python"
    }
  },
  "cells": [
    {
      "cell_type": "markdown",
      "metadata": {
        "id": "view-in-github",
        "colab_type": "text"
      },
      "source": [
        "<a href=\"https://colab.research.google.com/github/christian-geier/apc-data/blob/main/CD15_CD16_and_CD15_CD16_DRhi_plots.ipynb\" target=\"_parent\"><img src=\"https://colab.research.google.com/assets/colab-badge.svg\" alt=\"Open In Colab\"/></a>"
      ]
    },
    {
      "cell_type": "code",
      "execution_count": null,
      "metadata": {
        "id": "4sWnW_aJO8vG"
      },
      "outputs": [],
      "source": [
        "import pandas as pd\n",
        "\n",
        "import matplotlib.pyplot as plt\n",
        "import seaborn as sns\n",
        "\n",
        "import scipy"
      ]
    },
    {
      "cell_type": "code",
      "source": [
        "# install dependency\n",
        "pip install statannot"
      ],
      "metadata": {
        "colab": {
          "base_uri": "https://localhost:8080/"
        },
        "id": "agMxxkNTkjFr",
        "outputId": "144259d4-b779-4d87-bd12-7b9747ce5ec4"
      },
      "execution_count": null,
      "outputs": [
        {
          "output_type": "stream",
          "name": "stdout",
          "text": [
            "Collecting statannot\n",
            "  Downloading statannot-0.2.3-py3-none-any.whl (10 kB)\n",
            "Installing collected packages: statannot\n",
            "Successfully installed statannot-0.2.3\n"
          ]
        }
      ]
    },
    {
      "cell_type": "code",
      "source": [
        "from google.colab import files\n",
        "\n",
        "uploaded = files.upload()"
      ],
      "metadata": {
        "colab": {
          "base_uri": "https://localhost:8080/",
          "height": 38
        },
        "id": "gAc6PnKyPBPP",
        "outputId": "02b94b72-f4a1-4dac-d78d-c27fc2ec6bac"
      },
      "execution_count": null,
      "outputs": [
        {
          "output_type": "display_data",
          "data": {
            "text/plain": [
              "<IPython.core.display.HTML object>"
            ],
            "text/html": [
              "\n",
              "     <input type=\"file\" id=\"files-bfc9cc14-6337-479c-98ff-05f509afacc4\" name=\"files[]\" multiple disabled\n",
              "        style=\"border:none\" />\n",
              "     <output id=\"result-bfc9cc14-6337-479c-98ff-05f509afacc4\">\n",
              "      Upload widget is only available when the cell has been executed in the\n",
              "      current browser session. Please rerun this cell to enable.\n",
              "      </output>\n",
              "      <script>// Copyright 2017 Google LLC\n",
              "//\n",
              "// Licensed under the Apache License, Version 2.0 (the \"License\");\n",
              "// you may not use this file except in compliance with the License.\n",
              "// You may obtain a copy of the License at\n",
              "//\n",
              "//      http://www.apache.org/licenses/LICENSE-2.0\n",
              "//\n",
              "// Unless required by applicable law or agreed to in writing, software\n",
              "// distributed under the License is distributed on an \"AS IS\" BASIS,\n",
              "// WITHOUT WARRANTIES OR CONDITIONS OF ANY KIND, either express or implied.\n",
              "// See the License for the specific language governing permissions and\n",
              "// limitations under the License.\n",
              "\n",
              "/**\n",
              " * @fileoverview Helpers for google.colab Python module.\n",
              " */\n",
              "(function(scope) {\n",
              "function span(text, styleAttributes = {}) {\n",
              "  const element = document.createElement('span');\n",
              "  element.textContent = text;\n",
              "  for (const key of Object.keys(styleAttributes)) {\n",
              "    element.style[key] = styleAttributes[key];\n",
              "  }\n",
              "  return element;\n",
              "}\n",
              "\n",
              "// Max number of bytes which will be uploaded at a time.\n",
              "const MAX_PAYLOAD_SIZE = 100 * 1024;\n",
              "\n",
              "function _uploadFiles(inputId, outputId) {\n",
              "  const steps = uploadFilesStep(inputId, outputId);\n",
              "  const outputElement = document.getElementById(outputId);\n",
              "  // Cache steps on the outputElement to make it available for the next call\n",
              "  // to uploadFilesContinue from Python.\n",
              "  outputElement.steps = steps;\n",
              "\n",
              "  return _uploadFilesContinue(outputId);\n",
              "}\n",
              "\n",
              "// This is roughly an async generator (not supported in the browser yet),\n",
              "// where there are multiple asynchronous steps and the Python side is going\n",
              "// to poll for completion of each step.\n",
              "// This uses a Promise to block the python side on completion of each step,\n",
              "// then passes the result of the previous step as the input to the next step.\n",
              "function _uploadFilesContinue(outputId) {\n",
              "  const outputElement = document.getElementById(outputId);\n",
              "  const steps = outputElement.steps;\n",
              "\n",
              "  const next = steps.next(outputElement.lastPromiseValue);\n",
              "  return Promise.resolve(next.value.promise).then((value) => {\n",
              "    // Cache the last promise value to make it available to the next\n",
              "    // step of the generator.\n",
              "    outputElement.lastPromiseValue = value;\n",
              "    return next.value.response;\n",
              "  });\n",
              "}\n",
              "\n",
              "/**\n",
              " * Generator function which is called between each async step of the upload\n",
              " * process.\n",
              " * @param {string} inputId Element ID of the input file picker element.\n",
              " * @param {string} outputId Element ID of the output display.\n",
              " * @return {!Iterable<!Object>} Iterable of next steps.\n",
              " */\n",
              "function* uploadFilesStep(inputId, outputId) {\n",
              "  const inputElement = document.getElementById(inputId);\n",
              "  inputElement.disabled = false;\n",
              "\n",
              "  const outputElement = document.getElementById(outputId);\n",
              "  outputElement.innerHTML = '';\n",
              "\n",
              "  const pickedPromise = new Promise((resolve) => {\n",
              "    inputElement.addEventListener('change', (e) => {\n",
              "      resolve(e.target.files);\n",
              "    });\n",
              "  });\n",
              "\n",
              "  const cancel = document.createElement('button');\n",
              "  inputElement.parentElement.appendChild(cancel);\n",
              "  cancel.textContent = 'Cancel upload';\n",
              "  const cancelPromise = new Promise((resolve) => {\n",
              "    cancel.onclick = () => {\n",
              "      resolve(null);\n",
              "    };\n",
              "  });\n",
              "\n",
              "  // Wait for the user to pick the files.\n",
              "  const files = yield {\n",
              "    promise: Promise.race([pickedPromise, cancelPromise]),\n",
              "    response: {\n",
              "      action: 'starting',\n",
              "    }\n",
              "  };\n",
              "\n",
              "  cancel.remove();\n",
              "\n",
              "  // Disable the input element since further picks are not allowed.\n",
              "  inputElement.disabled = true;\n",
              "\n",
              "  if (!files) {\n",
              "    return {\n",
              "      response: {\n",
              "        action: 'complete',\n",
              "      }\n",
              "    };\n",
              "  }\n",
              "\n",
              "  for (const file of files) {\n",
              "    const li = document.createElement('li');\n",
              "    li.append(span(file.name, {fontWeight: 'bold'}));\n",
              "    li.append(span(\n",
              "        `(${file.type || 'n/a'}) - ${file.size} bytes, ` +\n",
              "        `last modified: ${\n",
              "            file.lastModifiedDate ? file.lastModifiedDate.toLocaleDateString() :\n",
              "                                    'n/a'} - `));\n",
              "    const percent = span('0% done');\n",
              "    li.appendChild(percent);\n",
              "\n",
              "    outputElement.appendChild(li);\n",
              "\n",
              "    const fileDataPromise = new Promise((resolve) => {\n",
              "      const reader = new FileReader();\n",
              "      reader.onload = (e) => {\n",
              "        resolve(e.target.result);\n",
              "      };\n",
              "      reader.readAsArrayBuffer(file);\n",
              "    });\n",
              "    // Wait for the data to be ready.\n",
              "    let fileData = yield {\n",
              "      promise: fileDataPromise,\n",
              "      response: {\n",
              "        action: 'continue',\n",
              "      }\n",
              "    };\n",
              "\n",
              "    // Use a chunked sending to avoid message size limits. See b/62115660.\n",
              "    let position = 0;\n",
              "    do {\n",
              "      const length = Math.min(fileData.byteLength - position, MAX_PAYLOAD_SIZE);\n",
              "      const chunk = new Uint8Array(fileData, position, length);\n",
              "      position += length;\n",
              "\n",
              "      const base64 = btoa(String.fromCharCode.apply(null, chunk));\n",
              "      yield {\n",
              "        response: {\n",
              "          action: 'append',\n",
              "          file: file.name,\n",
              "          data: base64,\n",
              "        },\n",
              "      };\n",
              "\n",
              "      let percentDone = fileData.byteLength === 0 ?\n",
              "          100 :\n",
              "          Math.round((position / fileData.byteLength) * 100);\n",
              "      percent.textContent = `${percentDone}% done`;\n",
              "\n",
              "    } while (position < fileData.byteLength);\n",
              "  }\n",
              "\n",
              "  // All done.\n",
              "  yield {\n",
              "    response: {\n",
              "      action: 'complete',\n",
              "    }\n",
              "  };\n",
              "}\n",
              "\n",
              "scope.google = scope.google || {};\n",
              "scope.google.colab = scope.google.colab || {};\n",
              "scope.google.colab._files = {\n",
              "  _uploadFiles,\n",
              "  _uploadFilesContinue,\n",
              "};\n",
              "})(self);\n",
              "</script> "
            ]
          },
          "metadata": {}
        }
      ]
    },
    {
      "cell_type": "code",
      "source": [
        "import io\n",
        "\n",
        "df = pd.read_csv(io.BytesIO(uploaded['CD15CD16 CD15CD16 DRhi combined.csv']))"
      ],
      "metadata": {
        "id": "qBauxjI-PxiX"
      },
      "execution_count": null,
      "outputs": []
    },
    {
      "cell_type": "code",
      "source": [
        "CD15_16_DRhi = df.query('Gate == \"Polygon Gate CD15 CD16 DRhi\"')\n",
        "CD15_16 = df.query('Gate == \"Polygon Gate CD15 CD16\"')"
      ],
      "metadata": {
        "id": "1Jt7x32HJzGC"
      },
      "execution_count": null,
      "outputs": []
    },
    {
      "cell_type": "code",
      "source": [
        "vars_interest = [\n",
        "'Median CD45RA BUV395 BUV395-A',\n",
        " 'Mean CD45RA BUV395 BUV395-A',\n",
        " 'Median CD16 BUV496 BUV496-A',\n",
        " 'Mean CD16 BUV496 BUV496-A',\n",
        " 'Median CD56 BUV737 BUV737-A',\n",
        " 'Mean CD56 BUV737 BUV737-A',\n",
        " 'Median CCR3 BUV805 BUV805-A',\n",
        " 'Mean CCR3 BUV805 BUV805-A',\n",
        " 'Median CCR7 BV421 BV421-A',\n",
        " 'Mean CCR7 BV421 BV421-A',\n",
        " 'Median CD11c eFluor450 eFluor 450-A',\n",
        " 'Mean CD11c eFluor450 eFluor 450-A',\n",
        " 'Median CD123 BV510 BV510-A',\n",
        " 'Mean CD123 BV510 BV510-A',\n",
        " 'Median HLA-DR V500 V500-A',\n",
        " 'Mean HLA-DR V500 V500-A',\n",
        " 'Median CD15 BV605 BV605-A',\n",
        " 'Mean CD15 BV605 BV605-A',\n",
        " 'Median CD86 BV711 BV711-A',\n",
        " 'Mean CD86 BV711 BV711-A',\n",
        " 'Median CD163 BV785 BV785-A',\n",
        " 'Mean CD163 BV785 BV785-A',\n",
        " 'Median CD141 BB515 BB515-A',\n",
        " 'Mean CD141 BB515 BB515-A',\n",
        " 'Median CD14 SB550 Spark Blue 550-A',\n",
        " 'Mean CD14 SB550 Spark Blue 550-A',\n",
        " 'Median CD45 PerCP PerCP-A',\n",
        " 'Mean CD45 PerCP PerCP-A',\n",
        " 'Median CD3 PerCP-Cy5.5 PerCP-Cy5.5-A',\n",
        " 'Mean CD3 PerCP-Cy5.5 PerCP-Cy5.5-A',\n",
        " 'Median CD275 PE PE-A',\n",
        " 'Mean CD275 PE PE-A',\n",
        " 'Median CD155 PE-Dazzle594 PE-Dazzle594-A',\n",
        " 'Mean CD155 PE-Dazzle594 PE-Dazzle594-A',\n",
        " 'Median PI-Viability Propidium Iodide-A',\n",
        " 'Mean PI-Viability Propidium Iodide-A',\n",
        " 'Median CD83 PE-Cy5 PE-Cy5-A',\n",
        " 'Mean CD83 PE-Cy5 PE-Cy5-A',\n",
        " 'Median CCR2 PE-Cy7 PE-Cy7-A',\n",
        " 'Mean CCR2 PE-Cy7 PE-Cy7-A',\n",
        " 'Median CD1c AF647 Alexa Fluor 647-A',\n",
        " 'Mean CD1c AF647 Alexa Fluor 647-A',\n",
        " 'Median CD19 Spark NIR 685 Spark NIR 685-A',\n",
        " 'Mean CD19 Spark NIR 685 Spark NIR 685-A',\n",
        " 'Median CD303 APC-Fire750 APC-Fire 750-A',\n",
        " 'Mean CD303 APC-Fire750 APC-Fire 750-A',\n",
        " 'Median AF-A',\n",
        " 'Mean AF-A',\n",
        " '% non-lymphoid APC'\n",
        " ]"
      ],
      "metadata": {
        "id": "Mmeh8J7tfVKw"
      },
      "execution_count": null,
      "outputs": []
    },
    {
      "cell_type": "code",
      "source": [
        "# set labels\n",
        "\n",
        "CD15_16_DRhi['status'] = CD15_16_DRhi['status'].replace({'RA' : 'RA (n=13)', 'HD control' : 'HD (n=9)'})\n",
        "CD15_16['status'] = CD15_16['status'].replace({'RA' : 'RA (n=13)', 'HD control' : 'HD (n=9)'})"
      ],
      "metadata": {
        "colab": {
          "base_uri": "https://localhost:8080/"
        },
        "id": "60b4e6UdKVJS",
        "outputId": "b2e2faa9-306a-46a8-9d40-b05999c9facb"
      },
      "execution_count": null,
      "outputs": [
        {
          "output_type": "stream",
          "name": "stderr",
          "text": [
            "<ipython-input-7-842998e7fc53>:1: SettingWithCopyWarning: \n",
            "A value is trying to be set on a copy of a slice from a DataFrame.\n",
            "Try using .loc[row_indexer,col_indexer] = value instead\n",
            "\n",
            "See the caveats in the documentation: https://pandas.pydata.org/pandas-docs/stable/user_guide/indexing.html#returning-a-view-versus-a-copy\n",
            "  CD15_16_DRhi['status'] = CD15_16_DRhi['status'].replace({'RA' : 'RA (n=13)', 'HD control' : 'HD (n=9)'})\n",
            "<ipython-input-7-842998e7fc53>:2: SettingWithCopyWarning: \n",
            "A value is trying to be set on a copy of a slice from a DataFrame.\n",
            "Try using .loc[row_indexer,col_indexer] = value instead\n",
            "\n",
            "See the caveats in the documentation: https://pandas.pydata.org/pandas-docs/stable/user_guide/indexing.html#returning-a-view-versus-a-copy\n",
            "  CD15_16['status'] = CD15_16['status'].replace({'RA' : 'RA (n=13)', 'HD control' : 'HD (n=9)'})\n"
          ]
        }
      ]
    },
    {
      "cell_type": "code",
      "source": [
        "# Creates the plot for CD15_CD16_DRhi\n",
        "\n",
        "f, ax = plt.subplots()\n",
        "\n",
        "splot = sns.stripplot(y=\"% non-lymphoid APC\", x=\"status\", hue=\"index_pt\", legend=False, data=CD15_16_DRhi, s=10)\n",
        "# splot.set(yscale=\"log\")\n",
        "from matplotlib.ticker import StrMethodFormatter, NullFormatter\n",
        "import matplotlib.ticker as mticker\n",
        "ax.yaxis.set_major_formatter(mticker.FormatStrFormatter('%.1f'))\n",
        "\n",
        "# statistical annotation\n",
        "from statannot import add_stat_annotation\n",
        "\n",
        "plt.tick_params(\n",
        "    axis='x',          # changes apply to the x-axis\n",
        "    which='both',      # both major and minor ticks are affected\n",
        "    bottom=False,      # ticks along the bottom edge are off\n",
        "    top=False,         # ticks along the top edge are off\n",
        "    labelbottom=True) # labels along the bottom edge are off\n",
        "\n",
        "plt.tick_params(\n",
        "    axis='y',          # changes apply to the x-axis\n",
        "    which='minor',      # both major and minor ticks are affected\n",
        "    left=False)\n",
        "\n",
        "ax.spines['top'].set_visible(False)\n",
        "ax.spines['right'].set_visible(False)\n",
        "ax.spines['bottom'].set_visible(False)\n",
        "ax.spines['left'].set_visible(False)\n",
        "\n",
        "add_stat_annotation(ax, data=CD15_16_DRhi, x=\"status\", y=\"% non-lymphoid APC\",\n",
        "                    box_pairs=[(\"HD (n=9)\", \"RA (n=13)\")],\n",
        "                    test='Kruskal', text_format='star', loc='outside', verbose=2)\n",
        "\n",
        "\n",
        "plt.show()"
      ],
      "metadata": {
        "colab": {
          "base_uri": "https://localhost:8080/",
          "height": 627
        },
        "id": "m1nydqDvZgQI",
        "outputId": "734894c4-7d86-47ca-b47d-64c6171d9c31"
      },
      "execution_count": null,
      "outputs": [
        {
          "output_type": "stream",
          "name": "stdout",
          "text": [
            "p-value annotation legend:\n",
            "ns: 5.00e-02 < p <= 1.00e+00\n",
            "*: 1.00e-02 < p <= 5.00e-02\n",
            "**: 1.00e-03 < p <= 1.00e-02\n",
            "***: 1.00e-04 < p <= 1.00e-03\n",
            "****: p <= 1.00e-04\n",
            "\n",
            "HD (n=9) v.s. RA (n=13): Kruskal-Wallis paired samples with Bonferroni correction, P_val=4.484e-04 stat=1.232e+01\n"
          ]
        },
        {
          "output_type": "display_data",
          "data": {
            "text/plain": [
              "<Figure size 640x480 with 1 Axes>"
            ],
            "image/png": "[encoded data removed]"
          },
          "metadata": {}
        }
      ]
    },
    {
      "cell_type": "code",
      "source": [
        "f, ax = plt.subplots()\n",
        "\n",
        "splot = sns.stripplot(y=\"% live leukocyte singlets\", x=\"status\", hue=\"status\", legend=False, data=CD15_16, s=10)\n",
        "from matplotlib.ticker import StrMethodFormatter, NullFormatter\n",
        "import matplotlib.ticker as mticker\n",
        "ax.yaxis.set_major_formatter(mticker.FormatStrFormatter('%.1f'))\n",
        "\n",
        "# statistical annotation\n",
        "from statannot import add_stat_annotation\n",
        "\n",
        "plt.tick_params(\n",
        "    axis='x',          # changes apply to the x-axis\n",
        "    which='both',      # both major and minor ticks are affected\n",
        "    bottom=False,      # ticks along the bottom edge are off\n",
        "    top=False,         # ticks along the top edge are off\n",
        "    labelbottom=True) # labels along the bottom edge are off\n",
        "\n",
        "plt.tick_params(\n",
        "    axis='y',          # changes apply to the x-axis\n",
        "    which='minor',      # both major and minor ticks are affected\n",
        "    left=False)\n",
        "\n",
        "ax.spines['top'].set_visible(False)\n",
        "ax.spines['right'].set_visible(False)\n",
        "ax.spines['bottom'].set_visible(False)\n",
        "ax.spines['left'].set_visible(False)\n",
        "\n",
        "add_stat_annotation(ax, data=CD15_16, x=\"status\", y=\"% live leukocyte singlets\",\n",
        "                    box_pairs=[(\"HD (n=9)\", \"RA (n=13)\")],\n",
        "                    test='Kruskal', text_format='star', loc='outside', verbose=2)\n",
        "\n",
        "\n",
        "plt.show()"
      ],
      "metadata": {
        "id": "JwDMPKWXax5y",
        "colab": {
          "base_uri": "https://localhost:8080/",
          "height": 645
        },
        "outputId": "db124d3c-226c-41d0-883d-57a9ef56f879"
      },
      "execution_count": null,
      "outputs": [
        {
          "output_type": "stream",
          "name": "stdout",
          "text": [
            "p-value annotation legend:\n",
            "ns: 5.00e-02 < p <= 1.00e+00\n",
            "*: 1.00e-02 < p <= 5.00e-02\n",
            "**: 1.00e-03 < p <= 1.00e-02\n",
            "***: 1.00e-04 < p <= 1.00e-03\n",
            "****: p <= 1.00e-04\n",
            "\n",
            "HD (n=9) v.s. RA (n=13): Kruskal-Wallis paired samples with Bonferroni correction, P_val=6.577e-04 stat=1.161e+01\n"
          ]
        },
        {
          "output_type": "display_data",
          "data": {
            "text/plain": [
              "<Figure size 640x480 with 1 Axes>"
            ],
            "image/png": "[encoded data removed]"
          },
          "metadata": {}
        }
      ]
    }
  ]
}